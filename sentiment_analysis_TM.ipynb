{
 "cells": [
  {
   "cell_type": "markdown",
   "metadata": {},
   "source": [
    "### Sentiment Analysis RoBERTa "
   ]
  },
  {
   "cell_type": "code",
   "execution_count": 1,
   "metadata": {},
   "outputs": [
    {
     "name": "stdout",
     "output_type": "stream",
     "text": [
      "Requirement already satisfied: pandas in /Users/annamironovich/anaconda3/lib/python3.12/site-packages (2.2.2)\n",
      "Requirement already satisfied: scikit-learn in /Users/annamironovich/anaconda3/lib/python3.12/site-packages (1.5.1)\n",
      "Requirement already satisfied: transformers in /Users/annamironovich/anaconda3/lib/python3.12/site-packages (4.51.3)\n",
      "Requirement already satisfied: torch in /Users/annamironovich/anaconda3/lib/python3.12/site-packages (2.7.0)\n",
      "Requirement already satisfied: nltk in /Users/annamironovich/anaconda3/lib/python3.12/site-packages (3.9.1)\n",
      "Requirement already satisfied: numpy>=1.26.0 in /Users/annamironovich/anaconda3/lib/python3.12/site-packages (from pandas) (1.26.4)\n",
      "Requirement already satisfied: python-dateutil>=2.8.2 in /Users/annamironovich/anaconda3/lib/python3.12/site-packages (from pandas) (2.9.0.post0)\n",
      "Requirement already satisfied: pytz>=2020.1 in /Users/annamironovich/anaconda3/lib/python3.12/site-packages (from pandas) (2024.1)\n",
      "Requirement already satisfied: tzdata>=2022.7 in /Users/annamironovich/anaconda3/lib/python3.12/site-packages (from pandas) (2023.3)\n",
      "Requirement already satisfied: scipy>=1.6.0 in /Users/annamironovich/anaconda3/lib/python3.12/site-packages (from scikit-learn) (1.13.1)\n",
      "Requirement already satisfied: joblib>=1.2.0 in /Users/annamironovich/anaconda3/lib/python3.12/site-packages (from scikit-learn) (1.4.2)\n",
      "Requirement already satisfied: threadpoolctl>=3.1.0 in /Users/annamironovich/anaconda3/lib/python3.12/site-packages (from scikit-learn) (3.5.0)\n",
      "Requirement already satisfied: filelock in /Users/annamironovich/anaconda3/lib/python3.12/site-packages (from transformers) (3.13.1)\n",
      "Requirement already satisfied: huggingface-hub<1.0,>=0.30.0 in /Users/annamironovich/anaconda3/lib/python3.12/site-packages (from transformers) (0.31.2)\n",
      "Requirement already satisfied: packaging>=20.0 in /Users/annamironovich/anaconda3/lib/python3.12/site-packages (from transformers) (24.1)\n",
      "Requirement already satisfied: pyyaml>=5.1 in /Users/annamironovich/anaconda3/lib/python3.12/site-packages (from transformers) (6.0.1)\n",
      "Requirement already satisfied: regex!=2019.12.17 in /Users/annamironovich/anaconda3/lib/python3.12/site-packages (from transformers) (2024.9.11)\n",
      "Requirement already satisfied: requests in /Users/annamironovich/anaconda3/lib/python3.12/site-packages (from transformers) (2.32.3)\n",
      "Requirement already satisfied: tokenizers<0.22,>=0.21 in /Users/annamironovich/anaconda3/lib/python3.12/site-packages (from transformers) (0.21.1)\n",
      "Requirement already satisfied: safetensors>=0.4.3 in /Users/annamironovich/anaconda3/lib/python3.12/site-packages (from transformers) (0.5.3)\n",
      "Requirement already satisfied: tqdm>=4.27 in /Users/annamironovich/anaconda3/lib/python3.12/site-packages (from transformers) (4.66.5)\n",
      "Requirement already satisfied: typing-extensions>=4.10.0 in /Users/annamironovich/anaconda3/lib/python3.12/site-packages (from torch) (4.11.0)\n",
      "Requirement already satisfied: setuptools in /Users/annamironovich/anaconda3/lib/python3.12/site-packages (from torch) (75.1.0)\n",
      "Requirement already satisfied: sympy>=1.13.3 in /Users/annamironovich/anaconda3/lib/python3.12/site-packages (from torch) (1.14.0)\n",
      "Requirement already satisfied: networkx in /Users/annamironovich/anaconda3/lib/python3.12/site-packages (from torch) (3.3)\n",
      "Requirement already satisfied: jinja2 in /Users/annamironovich/anaconda3/lib/python3.12/site-packages (from torch) (3.1.4)\n",
      "Requirement already satisfied: fsspec in /Users/annamironovich/anaconda3/lib/python3.12/site-packages (from torch) (2024.6.1)\n",
      "Requirement already satisfied: click in /Users/annamironovich/anaconda3/lib/python3.12/site-packages (from nltk) (8.1.7)\n",
      "Requirement already satisfied: six>=1.5 in /Users/annamironovich/anaconda3/lib/python3.12/site-packages (from python-dateutil>=2.8.2->pandas) (1.16.0)\n",
      "Requirement already satisfied: mpmath<1.4,>=1.1.0 in /Users/annamironovich/anaconda3/lib/python3.12/site-packages (from sympy>=1.13.3->torch) (1.3.0)\n",
      "Requirement already satisfied: MarkupSafe>=2.0 in /Users/annamironovich/anaconda3/lib/python3.12/site-packages (from jinja2->torch) (2.1.3)\n",
      "Requirement already satisfied: charset-normalizer<4,>=2 in /Users/annamironovich/anaconda3/lib/python3.12/site-packages (from requests->transformers) (3.3.2)\n",
      "Requirement already satisfied: idna<4,>=2.5 in /Users/annamironovich/anaconda3/lib/python3.12/site-packages (from requests->transformers) (3.7)\n",
      "Requirement already satisfied: urllib3<3,>=1.21.1 in /Users/annamironovich/anaconda3/lib/python3.12/site-packages (from requests->transformers) (2.2.3)\n",
      "Requirement already satisfied: certifi>=2017.4.17 in /Users/annamironovich/anaconda3/lib/python3.12/site-packages (from requests->transformers) (2025.1.31)\n",
      "Note: you may need to restart the kernel to use updated packages.\n"
     ]
    }
   ],
   "source": [
    "pip install pandas scikit-learn transformers torch nltk\n"
   ]
  },
  {
   "cell_type": "code",
   "execution_count": 3,
   "metadata": {},
   "outputs": [
    {
     "name": "stdout",
     "output_type": "stream",
     "text": [
      "Requirement already satisfied: transformers[torch] in /Users/annamironovich/anaconda3/lib/python3.12/site-packages (4.51.3)\n",
      "Collecting transformers[torch]\n",
      "  Downloading transformers-4.52.4-py3-none-any.whl.metadata (38 kB)\n",
      "Requirement already satisfied: filelock in /Users/annamironovich/anaconda3/lib/python3.12/site-packages (from transformers[torch]) (3.13.1)\n",
      "Requirement already satisfied: huggingface-hub<1.0,>=0.30.0 in /Users/annamironovich/anaconda3/lib/python3.12/site-packages (from transformers[torch]) (0.31.2)\n",
      "Requirement already satisfied: numpy>=1.17 in /Users/annamironovich/anaconda3/lib/python3.12/site-packages (from transformers[torch]) (1.26.4)\n",
      "Requirement already satisfied: packaging>=20.0 in /Users/annamironovich/anaconda3/lib/python3.12/site-packages (from transformers[torch]) (24.1)\n",
      "Requirement already satisfied: pyyaml>=5.1 in /Users/annamironovich/anaconda3/lib/python3.12/site-packages (from transformers[torch]) (6.0.1)\n",
      "Requirement already satisfied: regex!=2019.12.17 in /Users/annamironovich/anaconda3/lib/python3.12/site-packages (from transformers[torch]) (2024.9.11)\n",
      "Requirement already satisfied: requests in /Users/annamironovich/anaconda3/lib/python3.12/site-packages (from transformers[torch]) (2.32.3)\n",
      "Requirement already satisfied: tokenizers<0.22,>=0.21 in /Users/annamironovich/anaconda3/lib/python3.12/site-packages (from transformers[torch]) (0.21.1)\n",
      "Requirement already satisfied: safetensors>=0.4.3 in /Users/annamironovich/anaconda3/lib/python3.12/site-packages (from transformers[torch]) (0.5.3)\n",
      "Requirement already satisfied: tqdm>=4.27 in /Users/annamironovich/anaconda3/lib/python3.12/site-packages (from transformers[torch]) (4.66.5)\n",
      "Collecting torch<2.7,>=2.1 (from transformers[torch])\n",
      "  Downloading torch-2.6.0-cp312-none-macosx_11_0_arm64.whl.metadata (28 kB)\n",
      "Collecting accelerate>=0.26.0 (from transformers[torch])\n",
      "  Downloading accelerate-1.7.0-py3-none-any.whl.metadata (19 kB)\n",
      "Requirement already satisfied: psutil in /Users/annamironovich/anaconda3/lib/python3.12/site-packages (from accelerate>=0.26.0->transformers[torch]) (5.9.0)\n",
      "Requirement already satisfied: fsspec>=2023.5.0 in /Users/annamironovich/anaconda3/lib/python3.12/site-packages (from huggingface-hub<1.0,>=0.30.0->transformers[torch]) (2024.6.1)\n",
      "Requirement already satisfied: typing-extensions>=3.7.4.3 in /Users/annamironovich/anaconda3/lib/python3.12/site-packages (from huggingface-hub<1.0,>=0.30.0->transformers[torch]) (4.11.0)\n",
      "Requirement already satisfied: networkx in /Users/annamironovich/anaconda3/lib/python3.12/site-packages (from torch<2.7,>=2.1->transformers[torch]) (3.3)\n",
      "Requirement already satisfied: jinja2 in /Users/annamironovich/anaconda3/lib/python3.12/site-packages (from torch<2.7,>=2.1->transformers[torch]) (3.1.4)\n",
      "Requirement already satisfied: setuptools in /Users/annamironovich/anaconda3/lib/python3.12/site-packages (from torch<2.7,>=2.1->transformers[torch]) (75.1.0)\n",
      "Collecting sympy==1.13.1 (from torch<2.7,>=2.1->transformers[torch])\n",
      "  Using cached sympy-1.13.1-py3-none-any.whl.metadata (12 kB)\n",
      "Requirement already satisfied: mpmath<1.4,>=1.1.0 in /Users/annamironovich/anaconda3/lib/python3.12/site-packages (from sympy==1.13.1->torch<2.7,>=2.1->transformers[torch]) (1.3.0)\n",
      "Requirement already satisfied: charset-normalizer<4,>=2 in /Users/annamironovich/anaconda3/lib/python3.12/site-packages (from requests->transformers[torch]) (3.3.2)\n",
      "Requirement already satisfied: idna<4,>=2.5 in /Users/annamironovich/anaconda3/lib/python3.12/site-packages (from requests->transformers[torch]) (3.7)\n",
      "Requirement already satisfied: urllib3<3,>=1.21.1 in /Users/annamironovich/anaconda3/lib/python3.12/site-packages (from requests->transformers[torch]) (2.2.3)\n",
      "Requirement already satisfied: certifi>=2017.4.17 in /Users/annamironovich/anaconda3/lib/python3.12/site-packages (from requests->transformers[torch]) (2025.1.31)\n",
      "Requirement already satisfied: MarkupSafe>=2.0 in /Users/annamironovich/anaconda3/lib/python3.12/site-packages (from jinja2->torch<2.7,>=2.1->transformers[torch]) (2.1.3)\n",
      "Downloading accelerate-1.7.0-py3-none-any.whl (362 kB)\n",
      "Downloading torch-2.6.0-cp312-none-macosx_11_0_arm64.whl (66.5 MB)\n",
      "\u001b[2K   \u001b[90m━━━━━━━━━━━━━━━━━━━━━━━━━━━━━━━━━━━━━━━━\u001b[0m \u001b[32m66.5/66.5 MB\u001b[0m \u001b[31m61.7 MB/s\u001b[0m eta \u001b[36m0:00:00\u001b[0m00:01\u001b[0m00:01\u001b[0m\n",
      "\u001b[?25hUsing cached sympy-1.13.1-py3-none-any.whl (6.2 MB)\n",
      "Downloading transformers-4.52.4-py3-none-any.whl (10.5 MB)\n",
      "\u001b[2K   \u001b[90m━━━━━━━━━━━━━━━━━━━━━━━━━━━━━━━━━━━━━━━━\u001b[0m \u001b[32m10.5/10.5 MB\u001b[0m \u001b[31m85.0 MB/s\u001b[0m eta \u001b[36m0:00:00\u001b[0m\n",
      "\u001b[?25hInstalling collected packages: sympy, torch, accelerate, transformers\n",
      "  Attempting uninstall: sympy\n",
      "    Found existing installation: sympy 1.14.0\n",
      "    Uninstalling sympy-1.14.0:\n",
      "      Successfully uninstalled sympy-1.14.0\n",
      "  Attempting uninstall: torch\n",
      "    Found existing installation: torch 2.7.0\n",
      "    Uninstalling torch-2.7.0:\n",
      "      Successfully uninstalled torch-2.7.0\n",
      "  Attempting uninstall: transformers\n",
      "    Found existing installation: transformers 4.51.3\n",
      "    Uninstalling transformers-4.51.3:\n",
      "      Successfully uninstalled transformers-4.51.3\n",
      "Successfully installed accelerate-1.7.0 sympy-1.13.1 torch-2.6.0 transformers-4.52.4\n"
     ]
    }
   ],
   "source": [
    "!pip install 'transformers[torch]' -U\n",
    "\n"
   ]
  },
  {
   "cell_type": "code",
   "execution_count": 3,
   "metadata": {},
   "outputs": [
    {
     "name": "stdout",
     "output_type": "stream",
     "text": [
      "Requirement already satisfied: simpletransformers in /Users/annamironovich/anaconda3/lib/python3.12/site-packages (0.70.1)\n",
      "Requirement already satisfied: numpy in /Users/annamironovich/anaconda3/lib/python3.12/site-packages (from simpletransformers) (1.26.4)\n",
      "Requirement already satisfied: requests in /Users/annamironovich/anaconda3/lib/python3.12/site-packages (from simpletransformers) (2.32.3)\n",
      "Requirement already satisfied: tqdm>=4.47.0 in /Users/annamironovich/anaconda3/lib/python3.12/site-packages (from simpletransformers) (4.66.5)\n",
      "Requirement already satisfied: regex in /Users/annamironovich/anaconda3/lib/python3.12/site-packages (from simpletransformers) (2024.9.11)\n",
      "Requirement already satisfied: transformers>=4.31.0 in /Users/annamironovich/anaconda3/lib/python3.12/site-packages (from simpletransformers) (4.52.4)\n",
      "Requirement already satisfied: datasets in /Users/annamironovich/anaconda3/lib/python3.12/site-packages (from simpletransformers) (3.6.0)\n",
      "Requirement already satisfied: scipy in /Users/annamironovich/anaconda3/lib/python3.12/site-packages (from simpletransformers) (1.13.1)\n",
      "Requirement already satisfied: scikit-learn in /Users/annamironovich/anaconda3/lib/python3.12/site-packages (from simpletransformers) (1.5.1)\n",
      "Requirement already satisfied: seqeval in /Users/annamironovich/anaconda3/lib/python3.12/site-packages (from simpletransformers) (1.2.2)\n",
      "Requirement already satisfied: tensorboard in /Users/annamironovich/anaconda3/lib/python3.12/site-packages (from simpletransformers) (2.19.0)\n",
      "Requirement already satisfied: tensorboardx in /Users/annamironovich/anaconda3/lib/python3.12/site-packages (from simpletransformers) (2.6.2.2)\n",
      "Requirement already satisfied: pandas in /Users/annamironovich/anaconda3/lib/python3.12/site-packages (from simpletransformers) (2.2.2)\n",
      "Requirement already satisfied: tokenizers in /Users/annamironovich/anaconda3/lib/python3.12/site-packages (from simpletransformers) (0.21.1)\n",
      "Requirement already satisfied: wandb>=0.10.32 in /Users/annamironovich/anaconda3/lib/python3.12/site-packages (from simpletransformers) (0.19.11)\n",
      "Requirement already satisfied: streamlit in /Users/annamironovich/anaconda3/lib/python3.12/site-packages (from simpletransformers) (1.37.1)\n",
      "Requirement already satisfied: sentencepiece in /Users/annamironovich/anaconda3/lib/python3.12/site-packages (from simpletransformers) (0.2.0)\n",
      "Requirement already satisfied: filelock in /Users/annamironovich/anaconda3/lib/python3.12/site-packages (from transformers>=4.31.0->simpletransformers) (3.13.1)\n",
      "Requirement already satisfied: huggingface-hub<1.0,>=0.30.0 in /Users/annamironovich/anaconda3/lib/python3.12/site-packages (from transformers>=4.31.0->simpletransformers) (0.31.2)\n",
      "Requirement already satisfied: packaging>=20.0 in /Users/annamironovich/anaconda3/lib/python3.12/site-packages (from transformers>=4.31.0->simpletransformers) (24.1)\n",
      "Requirement already satisfied: pyyaml>=5.1 in /Users/annamironovich/anaconda3/lib/python3.12/site-packages (from transformers>=4.31.0->simpletransformers) (6.0.1)\n",
      "Requirement already satisfied: safetensors>=0.4.3 in /Users/annamironovich/anaconda3/lib/python3.12/site-packages (from transformers>=4.31.0->simpletransformers) (0.5.3)\n",
      "Requirement already satisfied: click!=8.0.0,>=7.1 in /Users/annamironovich/anaconda3/lib/python3.12/site-packages (from wandb>=0.10.32->simpletransformers) (8.1.7)\n",
      "Requirement already satisfied: docker-pycreds>=0.4.0 in /Users/annamironovich/anaconda3/lib/python3.12/site-packages (from wandb>=0.10.32->simpletransformers) (0.4.0)\n",
      "Requirement already satisfied: gitpython!=3.1.29,>=1.0.0 in /Users/annamironovich/anaconda3/lib/python3.12/site-packages (from wandb>=0.10.32->simpletransformers) (3.1.43)\n",
      "Requirement already satisfied: platformdirs in /Users/annamironovich/anaconda3/lib/python3.12/site-packages (from wandb>=0.10.32->simpletransformers) (3.10.0)\n",
      "Requirement already satisfied: protobuf!=4.21.0,!=5.28.0,<7,>=3.19.0 in /Users/annamironovich/anaconda3/lib/python3.12/site-packages (from wandb>=0.10.32->simpletransformers) (4.25.3)\n",
      "Requirement already satisfied: psutil>=5.0.0 in /Users/annamironovich/anaconda3/lib/python3.12/site-packages (from wandb>=0.10.32->simpletransformers) (5.9.0)\n",
      "Requirement already satisfied: pydantic<3 in /Users/annamironovich/anaconda3/lib/python3.12/site-packages (from wandb>=0.10.32->simpletransformers) (2.8.2)\n",
      "Requirement already satisfied: sentry-sdk>=2.0.0 in /Users/annamironovich/anaconda3/lib/python3.12/site-packages (from wandb>=0.10.32->simpletransformers) (2.28.0)\n",
      "Requirement already satisfied: setproctitle in /Users/annamironovich/anaconda3/lib/python3.12/site-packages (from wandb>=0.10.32->simpletransformers) (1.3.6)\n",
      "Requirement already satisfied: setuptools in /Users/annamironovich/anaconda3/lib/python3.12/site-packages (from wandb>=0.10.32->simpletransformers) (75.1.0)\n",
      "Requirement already satisfied: typing-extensions<5,>=4.4 in /Users/annamironovich/anaconda3/lib/python3.12/site-packages (from wandb>=0.10.32->simpletransformers) (4.11.0)\n",
      "Requirement already satisfied: charset-normalizer<4,>=2 in /Users/annamironovich/anaconda3/lib/python3.12/site-packages (from requests->simpletransformers) (3.3.2)\n",
      "Requirement already satisfied: idna<4,>=2.5 in /Users/annamironovich/anaconda3/lib/python3.12/site-packages (from requests->simpletransformers) (3.7)\n",
      "Requirement already satisfied: urllib3<3,>=1.21.1 in /Users/annamironovich/anaconda3/lib/python3.12/site-packages (from requests->simpletransformers) (2.2.3)\n",
      "Requirement already satisfied: certifi>=2017.4.17 in /Users/annamironovich/anaconda3/lib/python3.12/site-packages (from requests->simpletransformers) (2025.1.31)\n",
      "Requirement already satisfied: pyarrow>=15.0.0 in /Users/annamironovich/anaconda3/lib/python3.12/site-packages (from datasets->simpletransformers) (16.1.0)\n",
      "Requirement already satisfied: dill<0.3.9,>=0.3.0 in /Users/annamironovich/anaconda3/lib/python3.12/site-packages (from datasets->simpletransformers) (0.3.8)\n",
      "Requirement already satisfied: xxhash in /Users/annamironovich/anaconda3/lib/python3.12/site-packages (from datasets->simpletransformers) (3.5.0)\n",
      "Requirement already satisfied: multiprocess<0.70.17 in /Users/annamironovich/anaconda3/lib/python3.12/site-packages (from datasets->simpletransformers) (0.70.16)\n",
      "Requirement already satisfied: fsspec<=2025.3.0,>=2023.1.0 in /Users/annamironovich/anaconda3/lib/python3.12/site-packages (from fsspec[http]<=2025.3.0,>=2023.1.0->datasets->simpletransformers) (2024.6.1)\n",
      "Requirement already satisfied: python-dateutil>=2.8.2 in /Users/annamironovich/anaconda3/lib/python3.12/site-packages (from pandas->simpletransformers) (2.9.0.post0)\n",
      "Requirement already satisfied: pytz>=2020.1 in /Users/annamironovich/anaconda3/lib/python3.12/site-packages (from pandas->simpletransformers) (2024.1)\n",
      "Requirement already satisfied: tzdata>=2022.7 in /Users/annamironovich/anaconda3/lib/python3.12/site-packages (from pandas->simpletransformers) (2023.3)\n",
      "Requirement already satisfied: joblib>=1.2.0 in /Users/annamironovich/anaconda3/lib/python3.12/site-packages (from scikit-learn->simpletransformers) (1.4.2)\n",
      "Requirement already satisfied: threadpoolctl>=3.1.0 in /Users/annamironovich/anaconda3/lib/python3.12/site-packages (from scikit-learn->simpletransformers) (3.5.0)\n",
      "Requirement already satisfied: altair<6,>=4.0 in /Users/annamironovich/anaconda3/lib/python3.12/site-packages (from streamlit->simpletransformers) (5.0.1)\n",
      "Requirement already satisfied: blinker<2,>=1.0.0 in /Users/annamironovich/anaconda3/lib/python3.12/site-packages (from streamlit->simpletransformers) (1.6.2)\n",
      "Requirement already satisfied: cachetools<6,>=4.0 in /Users/annamironovich/anaconda3/lib/python3.12/site-packages (from streamlit->simpletransformers) (5.3.3)\n",
      "Requirement already satisfied: pillow<11,>=7.1.0 in /Users/annamironovich/anaconda3/lib/python3.12/site-packages (from streamlit->simpletransformers) (10.4.0)\n",
      "Requirement already satisfied: rich<14,>=10.14.0 in /Users/annamironovich/anaconda3/lib/python3.12/site-packages (from streamlit->simpletransformers) (13.7.1)\n",
      "Requirement already satisfied: tenacity<9,>=8.1.0 in /Users/annamironovich/anaconda3/lib/python3.12/site-packages (from streamlit->simpletransformers) (8.2.3)\n",
      "Requirement already satisfied: toml<2,>=0.10.1 in /Users/annamironovich/anaconda3/lib/python3.12/site-packages (from streamlit->simpletransformers) (0.10.2)\n",
      "Requirement already satisfied: pydeck<1,>=0.8.0b4 in /Users/annamironovich/anaconda3/lib/python3.12/site-packages (from streamlit->simpletransformers) (0.8.0)\n",
      "Requirement already satisfied: tornado<7,>=6.0.3 in /Users/annamironovich/anaconda3/lib/python3.12/site-packages (from streamlit->simpletransformers) (6.4.1)\n",
      "Requirement already satisfied: absl-py>=0.4 in /Users/annamironovich/anaconda3/lib/python3.12/site-packages (from tensorboard->simpletransformers) (2.2.2)\n",
      "Requirement already satisfied: grpcio>=1.48.2 in /Users/annamironovich/anaconda3/lib/python3.12/site-packages (from tensorboard->simpletransformers) (1.71.0)\n",
      "Requirement already satisfied: markdown>=2.6.8 in /Users/annamironovich/anaconda3/lib/python3.12/site-packages (from tensorboard->simpletransformers) (3.4.1)\n",
      "Requirement already satisfied: six>1.9 in /Users/annamironovich/anaconda3/lib/python3.12/site-packages (from tensorboard->simpletransformers) (1.16.0)\n",
      "Requirement already satisfied: tensorboard-data-server<0.8.0,>=0.7.0 in /Users/annamironovich/anaconda3/lib/python3.12/site-packages (from tensorboard->simpletransformers) (0.7.2)\n",
      "Requirement already satisfied: werkzeug>=1.0.1 in /Users/annamironovich/anaconda3/lib/python3.12/site-packages (from tensorboard->simpletransformers) (3.0.3)\n",
      "Requirement already satisfied: jinja2 in /Users/annamironovich/anaconda3/lib/python3.12/site-packages (from altair<6,>=4.0->streamlit->simpletransformers) (3.1.4)\n",
      "Requirement already satisfied: jsonschema>=3.0 in /Users/annamironovich/anaconda3/lib/python3.12/site-packages (from altair<6,>=4.0->streamlit->simpletransformers) (4.23.0)\n",
      "Requirement already satisfied: toolz in /Users/annamironovich/anaconda3/lib/python3.12/site-packages (from altair<6,>=4.0->streamlit->simpletransformers) (0.12.0)\n",
      "Requirement already satisfied: aiohttp!=4.0.0a0,!=4.0.0a1 in /Users/annamironovich/anaconda3/lib/python3.12/site-packages (from fsspec[http]<=2025.3.0,>=2023.1.0->datasets->simpletransformers) (3.10.5)\n",
      "Requirement already satisfied: gitdb<5,>=4.0.1 in /Users/annamironovich/anaconda3/lib/python3.12/site-packages (from gitpython!=3.1.29,>=1.0.0->wandb>=0.10.32->simpletransformers) (4.0.7)\n",
      "Requirement already satisfied: annotated-types>=0.4.0 in /Users/annamironovich/anaconda3/lib/python3.12/site-packages (from pydantic<3->wandb>=0.10.32->simpletransformers) (0.6.0)\n",
      "Requirement already satisfied: pydantic-core==2.20.1 in /Users/annamironovich/anaconda3/lib/python3.12/site-packages (from pydantic<3->wandb>=0.10.32->simpletransformers) (2.20.1)\n",
      "Requirement already satisfied: markdown-it-py>=2.2.0 in /Users/annamironovich/anaconda3/lib/python3.12/site-packages (from rich<14,>=10.14.0->streamlit->simpletransformers) (2.2.0)\n",
      "Requirement already satisfied: pygments<3.0.0,>=2.13.0 in /Users/annamironovich/anaconda3/lib/python3.12/site-packages (from rich<14,>=10.14.0->streamlit->simpletransformers) (2.15.1)\n",
      "Requirement already satisfied: MarkupSafe>=2.1.1 in /Users/annamironovich/anaconda3/lib/python3.12/site-packages (from werkzeug>=1.0.1->tensorboard->simpletransformers) (2.1.3)\n",
      "Requirement already satisfied: aiohappyeyeballs>=2.3.0 in /Users/annamironovich/anaconda3/lib/python3.12/site-packages (from aiohttp!=4.0.0a0,!=4.0.0a1->fsspec[http]<=2025.3.0,>=2023.1.0->datasets->simpletransformers) (2.4.0)\n",
      "Requirement already satisfied: aiosignal>=1.1.2 in /Users/annamironovich/anaconda3/lib/python3.12/site-packages (from aiohttp!=4.0.0a0,!=4.0.0a1->fsspec[http]<=2025.3.0,>=2023.1.0->datasets->simpletransformers) (1.2.0)\n",
      "Requirement already satisfied: attrs>=17.3.0 in /Users/annamironovich/anaconda3/lib/python3.12/site-packages (from aiohttp!=4.0.0a0,!=4.0.0a1->fsspec[http]<=2025.3.0,>=2023.1.0->datasets->simpletransformers) (23.1.0)\n",
      "Requirement already satisfied: frozenlist>=1.1.1 in /Users/annamironovich/anaconda3/lib/python3.12/site-packages (from aiohttp!=4.0.0a0,!=4.0.0a1->fsspec[http]<=2025.3.0,>=2023.1.0->datasets->simpletransformers) (1.4.0)\n",
      "Requirement already satisfied: multidict<7.0,>=4.5 in /Users/annamironovich/anaconda3/lib/python3.12/site-packages (from aiohttp!=4.0.0a0,!=4.0.0a1->fsspec[http]<=2025.3.0,>=2023.1.0->datasets->simpletransformers) (6.0.4)\n",
      "Requirement already satisfied: yarl<2.0,>=1.0 in /Users/annamironovich/anaconda3/lib/python3.12/site-packages (from aiohttp!=4.0.0a0,!=4.0.0a1->fsspec[http]<=2025.3.0,>=2023.1.0->datasets->simpletransformers) (1.11.0)\n",
      "Requirement already satisfied: smmap<5,>=3.0.1 in /Users/annamironovich/anaconda3/lib/python3.12/site-packages (from gitdb<5,>=4.0.1->gitpython!=3.1.29,>=1.0.0->wandb>=0.10.32->simpletransformers) (4.0.0)\n",
      "Requirement already satisfied: jsonschema-specifications>=2023.03.6 in /Users/annamironovich/anaconda3/lib/python3.12/site-packages (from jsonschema>=3.0->altair<6,>=4.0->streamlit->simpletransformers) (2023.7.1)\n",
      "Requirement already satisfied: referencing>=0.28.4 in /Users/annamironovich/anaconda3/lib/python3.12/site-packages (from jsonschema>=3.0->altair<6,>=4.0->streamlit->simpletransformers) (0.30.2)\n",
      "Requirement already satisfied: rpds-py>=0.7.1 in /Users/annamironovich/anaconda3/lib/python3.12/site-packages (from jsonschema>=3.0->altair<6,>=4.0->streamlit->simpletransformers) (0.10.6)\n",
      "Requirement already satisfied: mdurl~=0.1 in /Users/annamironovich/anaconda3/lib/python3.12/site-packages (from markdown-it-py>=2.2.0->rich<14,>=10.14.0->streamlit->simpletransformers) (0.1.0)\n"
     ]
    }
   ],
   "source": [
    "!pip install simpletransformers\n"
   ]
  },
  {
   "cell_type": "code",
   "execution_count": null,
   "metadata": {},
   "outputs": [
    {
     "name": "stderr",
     "output_type": "stream",
     "text": [
      "Some weights of RobertaForSequenceClassification were not initialized from the model checkpoint at distilroberta-base and are newly initialized: ['classifier.dense.bias', 'classifier.dense.weight', 'classifier.out_proj.bias', 'classifier.out_proj.weight']\n",
      "You should probably TRAIN this model on a down-stream task to be able to use it for predictions and inference.\n"
     ]
    },
    {
     "name": "stdout",
     "output_type": "stream",
     "text": [
      "Each epoch will have 387 steps.\n"
     ]
    },
    {
     "data": {
      "application/vnd.jupyter.widget-view+json": {
       "model_id": "aad9ee3ed3e943f68c7537355abccb3c",
       "version_major": 2,
       "version_minor": 0
      },
      "text/plain": [
       "Epoch:   0%|          | 0/5 [00:00<?, ?it/s]"
      ]
     },
     "metadata": {},
     "output_type": "display_data"
    },
    {
     "data": {
      "application/vnd.jupyter.widget-view+json": {
       "model_id": "ee08e75d0d6d4027bbc61acf403dd864",
       "version_major": 2,
       "version_minor": 0
      },
      "text/plain": [
       "Running Epoch 1 of 5:   0%|          | 0/387 [00:00<?, ?it/s]"
      ]
     },
     "metadata": {},
     "output_type": "display_data"
    },
    {
     "data": {
      "application/vnd.jupyter.widget-view+json": {
       "model_id": "f672c76a71ab4074acde2b1f7b230fa5",
       "version_major": 2,
       "version_minor": 0
      },
      "text/plain": [
       "Running Epoch 2 of 5:   0%|          | 0/387 [00:00<?, ?it/s]"
      ]
     },
     "metadata": {},
     "output_type": "display_data"
    },
    {
     "data": {
      "image/png": "[encoded data removed]",
      "text/plain": [
       "<Figure size 640x480 with 1 Axes>"
      ]
     },
     "metadata": {},
     "output_type": "display_data"
    },
    {
     "data": {
      "application/vnd.jupyter.widget-view+json": {
       "model_id": "c1e1d1ad36b74e4a8f008b65ac72cd7f",
       "version_major": 2,
       "version_minor": 0
      },
      "text/plain": [
       "Running Evaluation:   0%|          | 0/14 [00:00<?, ?it/s]"
      ]
     },
     "metadata": {},
     "output_type": "display_data"
    },
    {
     "name": "stdout",
     "output_type": "stream",
     "text": [
      "Dev Set Evaluation Results:\n",
      "{'mcc': 0.6230812473695639, 'eval_loss': 0.6001748527799334}\n"
     ]
    },
    {
     "data": {
      "application/vnd.jupyter.widget-view+json": {
       "model_id": "c68a36ba32294297be0940fcaa0f3627",
       "version_major": 2,
       "version_minor": 0
      },
      "text/plain": [
       "  0%|          | 0/1 [00:00<?, ?it/s]"
      ]
     },
     "metadata": {},
     "output_type": "display_data"
    },
    {
     "name": "stdout",
     "output_type": "stream",
     "text": [
      "RoBERTa Classification Report on Test Set:\n",
      "              precision    recall  f1-score   support\n",
      "\n",
      "    negative       0.67      0.67      0.67         6\n",
      "     neutral       0.50      0.50      0.50         6\n",
      "    positive       0.50      0.50      0.50         6\n",
      "\n",
      "    accuracy                           0.56        18\n",
      "   macro avg       0.56      0.56      0.56        18\n",
      "weighted avg       0.56      0.56      0.56        18\n",
      "\n"
     ]
    }
   ],
   "source": [
    "import os\n",
    "import numpy as np\n",
    "import pandas as pd\n",
    "import torch\n",
    "import matplotlib.pyplot as plt\n",
    "from sklearn.metrics import classification_report\n",
    "from simpletransformers.classification import ClassificationModel, ClassificationArgs\n",
    "from sklearn.preprocessing import LabelEncoder\n",
    "from sklearn.model_selection import train_test_split\n",
    "os.environ[\"WANDB_DISABLED\"] = \"true\"\n",
    "\n",
    "# Load datasets\n",
    "train_df = pd.read_csv('/Users/annamironovich/Downloads/archive/train.csv', encoding=\"ISO-8859-1\")\n",
    "test_df = pd.read_csv('/Users/annamironovich/Downloads/sentiment-topic-test.tsv', sep='\\t')\n",
    "\n",
    "train_df = train_df[['text', 'sentiment']].dropna()\n",
    "train_df = train_df.rename(columns={'text': 'text', 'sentiment': 'labels'})\n",
    "\n",
    "\n",
    "train_df = train_df.sample(frac=0.5, random_state=42).reset_index(drop=True)\n",
    "\n",
    "\n",
    "le = LabelEncoder()\n",
    "train_df['labels'] = le.fit_transform(train_df['labels'])\n",
    "test_df['labels'] = le.transform(test_df['sentiment'])\n",
    "\n",
    "train, dev = train_test_split(train_df, test_size=0.1, random_state=42)\n",
    "\n",
    "# Model configuration\n",
    "model_args = ClassificationArgs()\n",
    "\n",
    "model_args.output_dir = '/tmp/roberta_model'\n",
    "model_args.cache_dir = '/tmp/roberta_cache'\n",
    "model_args.best_model_dir = '/tmp/roberta_model/best_model'\n",
    "model_args.tensorboard_dir = '/tmp/roberta_logs'\n",
    "model_args.overwrite_output_dir = True\n",
    "model_args.evaluate_during_training = True\n",
    "model_args.num_train_epochs = 5\n",
    "model_args.train_batch_size = 32\n",
    "model_args.learning_rate = 4e-6\n",
    "model_args.max_seq_length = 256\n",
    "model_args.use_early_stopping = True\n",
    "model_args.early_stopping_delta = 0.01\n",
    "model_args.early_stopping_metric = 'eval_loss'\n",
    "model_args.early_stopping_metric_minimize = True\n",
    "model_args.early_stopping_patience = 2\n",
    "model_args.evaluate_during_training_steps = 32\n",
    "model_args.no_cache = True\n",
    "model_args.use_multiprocessing = False\n",
    "model_args.use_multiprocessing_for_evaluation = False\n",
    "model_args.wandb_project = None  \n",
    "\n",
    "steps_per_epoch = int(np.ceil(len(train) / float(model_args.train_batch_size)))\n",
    "print(f'Each epoch will have {steps_per_epoch:,} steps.')\n",
    "\n",
    "# Initialize RoBERTa model\n",
    "model = ClassificationModel(\n",
    "    'roberta', 'distilroberta-base', \n",
    "    num_labels=len(le.classes_),\n",
    "    args=model_args,\n",
    "    use_cuda=torch.cuda.is_available()\n",
    ")\n",
    "\n",
    "#train\n",
    "_, history = model.train_model(train, eval_df=dev)\n",
    "\n",
    "# Plot\n",
    "train_loss = history['train_loss']\n",
    "eval_loss = history['eval_loss']\n",
    "plt.plot(train_loss, label='Training loss')\n",
    "plt.plot(eval_loss, label='Evaluation loss')\n",
    "plt.title('Training and Evaluation Loss')\n",
    "plt.legend()\n",
    "plt.show()\n",
    "\n",
    "# Evaluate\n",
    "result, model_outputs, wrong_predictions = model.eval_model(dev)\n",
    "print(\"Dev Set Evaluation Results:\")\n",
    "print(result)\n",
    "\n",
    "# Predict on test set\n",
    "predicted, _ = model.predict(test_df['sentence'].tolist())\n",
    "test_df['predicted'] = predicted\n",
    "\n",
    "# classification report\n",
    "print(\"RoBERTa Classification Report on Test Set:\")\n",
    "print(classification_report(test_df['labels'], test_df['predicted'], target_names=le.classes_))\n"
   ]
  },
  {
   "cell_type": "code",
   "execution_count": 4,
   "metadata": {},
   "outputs": [
    {
     "name": "stderr",
     "output_type": "stream",
     "text": [
      "Some weights of RobertaForSequenceClassification were not initialized from the model checkpoint at distilroberta-base and are newly initialized: ['classifier.dense.bias', 'classifier.dense.weight', 'classifier.out_proj.bias', 'classifier.out_proj.weight']\n",
      "You should probably TRAIN this model on a down-stream task to be able to use it for predictions and inference.\n"
     ]
    },
    {
     "name": "stdout",
     "output_type": "stream",
     "text": [
      "Each epoch will have 387 steps.\n"
     ]
    }
   ],
   "source": [
    "import os\n",
    "import numpy as np\n",
    "import pandas as pd\n",
    "import torch\n",
    "import matplotlib.pyplot as plt\n",
    "from sklearn.metrics import classification_report\n",
    "from simpletransformers.classification import ClassificationModel, ClassificationArgs\n",
    "from sklearn.preprocessing import LabelEncoder\n",
    "from sklearn.model_selection import train_test_split\n",
    "os.environ[\"WANDB_DISABLED\"] = \"true\"\n",
    "\n",
    "train_df = pd.read_csv('/Users/annamironovich/Downloads/archive/train.csv', encoding=\"ISO-8859-1\")\n",
    "test_df = pd.read_csv('/Users/annamironovich/Downloads/sentiment-topic-test.tsv', sep='\\t')\n",
    "\n",
    "train_df = train_df[['text', 'sentiment']].dropna()\n",
    "train_df = train_df.rename(columns={'text': 'text', 'sentiment': 'labels'})\n",
    "\n",
    "\n",
    "train_df = train_df.sample(frac=0.25, random_state=42).reset_index(drop=True)\n",
    "\n",
    "le = LabelEncoder()\n",
    "train_df['labels'] = le.fit_transform(train_df['labels'])\n",
    "test_df['labels'] = le.transform(test_df['sentiment'])\n",
    "\n",
    "train, dev = train_test_split(train_df, test_size=0.1, random_state=42)\n",
    "\n",
    "# Model configuration\n",
    "model_args = ClassificationArgs()\n",
    "\n",
    "model_args.output_dir = '/tmp/roberta_model'\n",
    "model_args.cache_dir = '/tmp/roberta_cache'\n",
    "model_args.best_model_dir = '/tmp/roberta_model/best_model'\n",
    "model_args.tensorboard_dir = '/tmp/roberta_logs'\n",
    "model_args.overwrite_output_dir = True\n",
    "model_args.evaluate_during_training = False\n",
    "model_args.num_train_epochs = 2\n",
    "model_args.train_batch_size = 16\n",
    "model_args.learning_rate = 1e-5\n",
    "model_args.max_seq_length = 128\n",
    "model_args.use_early_stopping = False\n",
    "model_args.early_stopping_delta = 0.01\n",
    "model_args.early_stopping_metric = 'eval_loss'\n",
    "model_args.early_stopping_metric_minimize = True\n",
    "model_args.early_stopping_patience = 2\n",
    "model_args.evaluate_during_training_steps = 32\n",
    "\n",
    "\n",
    "\n",
    "\n",
    "steps_per_epoch = int(np.ceil(len(train) / float(model_args.train_batch_size)))\n",
    "print(f'Each epoch will have {steps_per_epoch:,} steps.')\n",
    "\n",
    "# Initialize RoBERTa model\n",
    "model = ClassificationModel(\n",
    "    'roberta', 'distilroberta-base', \n",
    "    num_labels=len(le.classes_),\n",
    "    args=model_args,\n",
    "    use_cuda=torch.cuda.is_available()\n",
    ")\n",
    "\n",
    "# Train\n",
    "#_, history = model.train_model(train, eval_df=dev)\n",
    "\n"
   ]
  },
  {
   "cell_type": "code",
   "execution_count": 11,
   "metadata": {},
   "outputs": [
    {
     "data": {
      "application/vnd.jupyter.widget-view+json": {
       "model_id": "e5797e4fbaa3429faa6b47a7710d57bf",
       "version_major": 2,
       "version_minor": 0
      },
      "text/plain": [
       "  0%|          | 0/12 [00:00<?, ?it/s]"
      ]
     },
     "metadata": {},
     "output_type": "display_data"
    },
    {
     "name": "stderr",
     "output_type": "stream",
     "text": [
      "huggingface/tokenizers: The current process just got forked, after parallelism has already been used. Disabling parallelism to avoid deadlocks...\n",
      "To disable this warning, you can either:\n",
      "\t- Avoid using `tokenizers` before the fork if possible\n",
      "\t- Explicitly set the environment variable huggingface/tokenizers: The current process just got forked, after parallelism has already been used. Disabling parallelism to avoid deadlocks...\n",
      "To disable this warning, you can either:\n",
      "\t- Avoid using `tokenizers` before the fork if possible\n",
      "\t- Explicitly set the environment variable TOKENIZERS_PARALLELISM=(true | false)\n",
      "TOKENIZERS_PARALLELISM=(true | false)\n",
      "huggingface/tokenizers: The current process just got forked, after parallelism has already been used. Disabling parallelism to avoid deadlocks...\n",
      "To disable this warning, you can either:\n",
      "\t- Avoid using `tokenizers` before the fork if possible\n",
      "\t- Explicitly set the environment variable TOKENIZERS_PARALLELISM=(true | false)\n",
      "huggingface/tokenizers: The current process just got forked, after parallelism has already been used. Disabling parallelism to avoid deadlocks...\n",
      "To disable this warning, you can either:\n",
      "\t- Avoid using `tokenizers` before the fork if possible\n",
      "\t- Explicitly set the environment variable TOKENIZERS_PARALLELISM=(true | false)\n",
      "huggingface/tokenizers: The current process just got forked, after parallelism has already been used. Disabling parallelism to avoid deadlocks...\n",
      "To disable this warning, you can either:\n",
      "\t- Avoid using `tokenizers` before the fork if possible\n",
      "\t- Explicitly set the environment variable TOKENIZERS_PARALLELISM=(true | false)\n",
      "huggingface/tokenizers: The current process just got forked, after parallelism has already been used. Disabling parallelism to avoid deadlocks...\n",
      "To disable this warning, you can either:\n",
      "\t- Avoid using `tokenizers` before the fork if possible\n",
      "\t- Explicitly set the environment variable TOKENIZERS_PARALLELISM=(true | false)\n"
     ]
    },
    {
     "data": {
      "application/vnd.jupyter.widget-view+json": {
       "model_id": "08f7ea7eca83461d86bdf5484a274381",
       "version_major": 2,
       "version_minor": 0
      },
      "text/plain": [
       "Epoch:   0%|          | 0/2 [00:00<?, ?it/s]"
      ]
     },
     "metadata": {},
     "output_type": "display_data"
    },
    {
     "data": {
      "application/vnd.jupyter.widget-view+json": {
       "model_id": "d776270913ca44e38bc2554bfc9598a5",
       "version_major": 2,
       "version_minor": 0
      },
      "text/plain": [
       "Running Epoch 1 of 2:   0%|          | 0/387 [00:00<?, ?it/s]"
      ]
     },
     "metadata": {},
     "output_type": "display_data"
    },
    {
     "data": {
      "application/vnd.jupyter.widget-view+json": {
       "model_id": "5b898b99dce2482682fd59d6b970ab5d",
       "version_major": 2,
       "version_minor": 0
      },
      "text/plain": [
       "Running Epoch 2 of 2:   0%|          | 0/387 [00:00<?, ?it/s]"
      ]
     },
     "metadata": {},
     "output_type": "display_data"
    }
   ],
   "source": [
    "result = model.train_model(train, eval_df=dev)\n",
    "\n"
   ]
  },
  {
   "cell_type": "code",
   "execution_count": 12,
   "metadata": {},
   "outputs": [
    {
     "data": {
      "application/vnd.jupyter.widget-view+json": {
       "model_id": "d6e16fad6f5a4b01aa05006d1977aeb6",
       "version_major": 2,
       "version_minor": 0
      },
      "text/plain": [
       "  0%|          | 0/12 [00:00<?, ?it/s]"
      ]
     },
     "metadata": {},
     "output_type": "display_data"
    },
    {
     "name": "stderr",
     "output_type": "stream",
     "text": [
      "huggingface/tokenizers: The current process just got forked, after parallelism has already been used. Disabling parallelism to avoid deadlocks...\n",
      "To disable this warning, you can either:\n",
      "\t- Avoid using `tokenizers` before the fork if possible\n",
      "\t- Explicitly set the environment variable TOKENIZERS_PARALLELISM=(true | false)\n",
      "huggingface/tokenizers: The current process just got forked, after parallelism has already been used. Disabling parallelism to avoid deadlocks...\n",
      "To disable this warning, you can either:\n",
      "\t- Avoid using `tokenizers` before the fork if possible\n",
      "\t- Explicitly set the environment variable TOKENIZERS_PARALLELISM=(true | false)\n",
      "huggingface/tokenizers: The current process just got forked, after parallelism has already been used. Disabling parallelism to avoid deadlocks...\n",
      "To disable this warning, you can either:\n",
      "\t- Avoid using `tokenizers` before the fork if possible\n",
      "\t- Explicitly set the environment variable TOKENIZERS_PARALLELISM=(true | false)\n",
      "huggingface/tokenizers: The current process just got forked, after parallelism has already been used. Disabling parallelism to avoid deadlocks...\n",
      "To disable this warning, you can either:\n",
      "\t- Avoid using `tokenizers` before the fork if possible\n",
      "\t- Explicitly set the environment variable TOKENIZERS_PARALLELISM=(true | false)\n",
      "huggingface/tokenizers: The current process just got forked, after parallelism has already been used. Disabling parallelism to avoid deadlocks...\n",
      "To disable this warning, you can either:\n",
      "\t- Avoid using `tokenizers` before the fork if possible\n",
      "\t- Explicitly set the environment variable TOKENIZERS_PARALLELISM=(true | false)\n",
      "huggingface/tokenizers: The current process just got forked, after parallelism has already been used. Disabling parallelism to avoid deadlocks...\n",
      "To disable this warning, you can either:\n",
      "\t- Avoid using `tokenizers` before the fork if possible\n",
      "\t- Explicitly set the environment variable TOKENIZERS_PARALLELISM=(true | false)\n"
     ]
    },
    {
     "data": {
      "application/vnd.jupyter.widget-view+json": {
       "model_id": "0593bd141aff40ffb12b4c762d36de88",
       "version_major": 2,
       "version_minor": 0
      },
      "text/plain": [
       "Epoch:   0%|          | 0/2 [00:00<?, ?it/s]"
      ]
     },
     "metadata": {},
     "output_type": "display_data"
    },
    {
     "data": {
      "application/vnd.jupyter.widget-view+json": {
       "model_id": "b2090500cc5644bc91adfb5d9b06d5c2",
       "version_major": 2,
       "version_minor": 0
      },
      "text/plain": [
       "Running Epoch 1 of 2:   0%|          | 0/387 [00:00<?, ?it/s]"
      ]
     },
     "metadata": {},
     "output_type": "display_data"
    },
    {
     "data": {
      "application/vnd.jupyter.widget-view+json": {
       "model_id": "4e920914bbce48fb9108ca60b0510dc6",
       "version_major": 2,
       "version_minor": 0
      },
      "text/plain": [
       "Running Epoch 2 of 2:   0%|          | 0/387 [00:00<?, ?it/s]"
      ]
     },
     "metadata": {},
     "output_type": "display_data"
    },
    {
     "name": "stdout",
     "output_type": "stream",
     "text": [
      "Final training loss: (774, 0.4871898196849404)\n"
     ]
    }
   ],
   "source": [
    "train_loss = model.train_model(train)\n",
    "print(f\"Final training loss: {train_loss}\")\n"
   ]
  },
  {
   "cell_type": "code",
   "execution_count": 13,
   "metadata": {},
   "outputs": [
    {
     "data": {
      "application/vnd.jupyter.widget-view+json": {
       "model_id": "81dd10e6608a4da9bea3658205047803",
       "version_major": 2,
       "version_minor": 0
      },
      "text/plain": [
       "  0%|          | 0/1 [00:00<?, ?it/s]"
      ]
     },
     "metadata": {},
     "output_type": "display_data"
    },
    {
     "name": "stderr",
     "output_type": "stream",
     "text": [
      "huggingface/tokenizers: The current process just got forked, after parallelism has already been used. Disabling parallelism to avoid deadlocks...\n",
      "To disable this warning, you can either:\n",
      "\t- Avoid using `tokenizers` before the fork if possible\n",
      "\t- Explicitly set the environment variable TOKENIZERS_PARALLELISM=(true | false)\n",
      "huggingface/tokenizers: The current process just got forked, after parallelism has already been used. Disabling parallelism to avoid deadlocks...\n",
      "To disable this warning, you can either:\n",
      "\t- Avoid using `tokenizers` before the fork if possible\n",
      "\t- Explicitly set the environment variable TOKENIZERS_PARALLELISM=(true | false)\n"
     ]
    },
    {
     "data": {
      "application/vnd.jupyter.widget-view+json": {
       "model_id": "c9dad30b31084183ae5b3e410f3c020e",
       "version_major": 2,
       "version_minor": 0
      },
      "text/plain": [
       "Running Evaluation:   0%|          | 0/7 [00:00<?, ?it/s]"
      ]
     },
     "metadata": {},
     "output_type": "display_data"
    },
    {
     "name": "stdout",
     "output_type": "stream",
     "text": [
      "Dev Set Evaluation Results:\n",
      "{'mcc': 0.696595172172011, 'eval_loss': 0.5038178477968488}\n"
     ]
    }
   ],
   "source": [
    "result, model_outputs, wrong_predictions = model.eval_model(dev)\n",
    "print(\"Dev Set Evaluation Results:\")\n",
    "print(result)"
   ]
  },
  {
   "cell_type": "code",
   "execution_count": 17,
   "metadata": {},
   "outputs": [
    {
     "data": {
      "application/vnd.jupyter.widget-view+json": {
       "model_id": "f27000cb3e7f4c1e96458bdd5b93fe5a",
       "version_major": 2,
       "version_minor": 0
      },
      "text/plain": [
       "0it [00:00, ?it/s]"
      ]
     },
     "metadata": {},
     "output_type": "display_data"
    },
    {
     "name": "stderr",
     "output_type": "stream",
     "text": [
      "huggingface/tokenizers: The current process just got forked, after parallelism has already been used. Disabling parallelism to avoid deadlocks...\n",
      "To disable this warning, you can either:\n",
      "\t- Avoid using `tokenizers` before the fork if possible\n",
      "\t- Explicitly set the environment variable TOKENIZERS_PARALLELISM=(true | false)\n"
     ]
    },
    {
     "data": {
      "application/vnd.jupyter.widget-view+json": {
       "model_id": "e4bdd033c0414755ba1b50088638407d",
       "version_major": 2,
       "version_minor": 0
      },
      "text/plain": [
       "  0%|          | 0/1 [00:00<?, ?it/s]"
      ]
     },
     "metadata": {},
     "output_type": "display_data"
    }
   ],
   "source": [
    "# Predict on test set\n",
    "predicted, _ = model.predict(test_df['sentence'].tolist())\n",
    "test_df['roberta_pred_encoded'] = predicted\n",
    "test_df['roberta_pred'] = le.inverse_transform(predicted)\n"
   ]
  },
  {
   "cell_type": "code",
   "execution_count": 18,
   "metadata": {},
   "outputs": [
    {
     "name": "stdout",
     "output_type": "stream",
     "text": [
      "RoBERTa Classification Report on Test Set:\n",
      "              precision    recall  f1-score   support\n",
      "\n",
      "    negative       0.80      0.67      0.73         6\n",
      "     neutral       0.67      0.67      0.67         6\n",
      "    positive       0.71      0.83      0.77         6\n",
      "\n",
      "    accuracy                           0.72        18\n",
      "   macro avg       0.73      0.72      0.72        18\n",
      "weighted avg       0.73      0.72      0.72        18\n",
      "\n"
     ]
    }
   ],
   "source": [
    "#classification report\n",
    "print(\"RoBERTa Classification Report on Test Set:\")\n",
    "print(classification_report(test_df['true_label_encoded'], test_df['roberta_pred_encoded'], target_names=le.classes_))\n"
   ]
  },
  {
   "cell_type": "code",
   "execution_count": 22,
   "metadata": {},
   "outputs": [
    {
     "data": {
      "image/png": "[encoded data removed]",
      "text/plain": [
       "<Figure size 600x500 with 2 Axes>"
      ]
     },
     "metadata": {},
     "output_type": "display_data"
    }
   ],
   "source": [
    "import seaborn as sns\n",
    "import matplotlib.pyplot as plt\n",
    "from sklearn.metrics import confusion_matrix\n",
    "cm = confusion_matrix(test_df['true_label_encoded'], test_df['roberta_pred_encoded'])\n",
    "\n",
    "\n",
    "plt.figure(figsize=(6, 5))\n",
    "sns.heatmap(cm, annot=True, fmt='d', cmap='Blues',\n",
    "            xticklabels=le.classes_, yticklabels=le.classes_)\n",
    "plt.title(\"RoBERTa Confusion Matrix\")\n",
    "plt.xlabel(\"Predicted Label\")\n",
    "plt.ylabel(\"True Label\")\n",
    "plt.tight_layout()\n",
    "plt.show()"
   ]
  },
  {
   "cell_type": "code",
   "execution_count": 25,
   "metadata": {},
   "outputs": [],
   "source": [
    "\n",
    "test_df[['sentence', 'true_label', 'roberta_pred']].to_csv(\"roberta_predictions.csv\", index=False)\n",
    "\n"
   ]
  },
  {
   "cell_type": "markdown",
   "metadata": {},
   "source": [
    "### Sentiment Analysis VADER"
   ]
  },
  {
   "cell_type": "code",
   "execution_count": 10,
   "metadata": {},
   "outputs": [
    {
     "name": "stdout",
     "output_type": "stream",
     "text": [
      "VADER Sentiment Classification Report:\n",
      "              precision    recall  f1-score   support\n",
      "\n",
      "    negative       1.00      0.17      0.29         6\n",
      "     neutral       0.20      0.17      0.18         6\n",
      "    positive       0.25      0.50      0.33         6\n",
      "\n",
      "    accuracy                           0.28        18\n",
      "   macro avg       0.48      0.28      0.27        18\n",
      "weighted avg       0.48      0.28      0.27        18\n",
      "\n"
     ]
    },
    {
     "name": "stderr",
     "output_type": "stream",
     "text": [
      "[nltk_data] Downloading package vader_lexicon to\n",
      "[nltk_data]     /Users/annamironovich/nltk_data...\n",
      "[nltk_data]   Package vader_lexicon is already up-to-date!\n"
     ]
    }
   ],
   "source": [
    "from nltk.sentiment.vader import SentimentIntensityAnalyzer\n",
    "import nltk\n",
    "from sklearn.metrics import classification_report\n",
    "\n",
    "test_df = pd.read_csv('/Users/annamironovich/Downloads/sentiment-topic-test.tsv', sep='\\t')\n",
    "test_df = test_df.rename(columns={'sentiment': 'true_label'})  # ensure consistency\n",
    "\n",
    "nltk.download('vader_lexicon')\n",
    "sid = SentimentIntensityAnalyzer()\n",
    "\n",
    "def get_vader_sentiment(text):\n",
    "    score = sid.polarity_scores(text)\n",
    "    if score['compound'] >= 0.05:\n",
    "        return 'positive'\n",
    "    elif score['compound'] <= -0.05:\n",
    "        return 'negative'\n",
    "    else:\n",
    "        return 'neutral'\n",
    "\n",
    "test_df['vader_pred'] = test_df['sentence'].apply(get_vader_sentiment)\n",
    "le = LabelEncoder()\n",
    "test_df['true_label_encoded'] = le.fit_transform(test_df['true_label'])\n",
    "test_df['vader_pred_encoded'] = le.transform(test_df['vader_pred'])\n",
    "\n",
    "print(\"VADER Sentiment Classification Report:\")\n",
    "print(classification_report(test_df['true_label_encoded'], test_df['vader_pred_encoded'], target_names=le.classes_))\n",
    "\n",
    "test_df[['sentence', 'vader_pred']].to_csv(\"vader_plain_predictions.csv\", index=False)"
   ]
  },
  {
   "cell_type": "markdown",
   "metadata": {},
   "source": [
    "#### Customised VADER"
   ]
  },
  {
   "cell_type": "code",
   "execution_count": 8,
   "metadata": {},
   "outputs": [
    {
     "name": "stdout",
     "output_type": "stream",
     "text": [
      "Custom VADER Sentiment Classification Report:\n",
      "              precision    recall  f1-score   support\n",
      "\n",
      "    negative       0.50      0.17      0.25         6\n",
      "     neutral       0.67      0.33      0.44         6\n",
      "    positive       0.46      1.00      0.63         6\n",
      "\n",
      "    accuracy                           0.50        18\n",
      "   macro avg       0.54      0.50      0.44        18\n",
      "weighted avg       0.54      0.50      0.44        18\n",
      "\n"
     ]
    },
    {
     "name": "stderr",
     "output_type": "stream",
     "text": [
      "[nltk_data] Downloading package vader_lexicon to\n",
      "[nltk_data]     /Users/annamironovich/nltk_data...\n",
      "[nltk_data]   Package vader_lexicon is already up-to-date!\n"
     ]
    }
   ],
   "source": [
    "from nltk.sentiment.vader import SentimentIntensityAnalyzer\n",
    "import nltk\n",
    "import pandas as pd\n",
    "from sklearn.metrics import classification_report\n",
    "from sklearn.preprocessing import LabelEncoder\n",
    "\n",
    "test_df = pd.read_csv('/Users/annamironovich/Downloads/sentiment-topic-test.tsv', sep='\\t')\n",
    "test_df = test_df.rename(columns={'sentiment': 'true_label', 'sentence': 'sentence'})\n",
    "\n",
    "\n",
    "nltk.download('vader_lexicon')\n",
    "sid = SentimentIntensityAnalyzer()\n",
    "\n",
    "custom_words = {\n",
    "    \"incredible\": 2.0,\n",
    "    \"unbelievable\": 2.5,\n",
    "    \"swept\": 1.5,\n",
    "    \"dragged\": -1.5,\n",
    "    \"confusing\": -1.0,\n",
    "    \"grows\": 1.5,\n",
    "    \"wild\": 1.2,\n",
    "    \"fell apart\": -2.5,\n",
    "    \"decent\": 0.5,\n",
    "    \"annoying\": -2.0,\n",
    "    \"genuine\": 1.8,\n",
    "    \"clicked\": -1.2,\n",
    "    \"spark\": 1.2,\n",
    "    \"hype\": -0.8,\n",
    "    \"disappointing\": -2.0,\n",
    "    \"coaster\": -2.5,\n",
    "    \"alive\": 1.5,\n",
    "    \"roar\": 1.0,\n",
    "    \"jumping\": 1.5,\n",
    "    \"hard to care\": -1.8,\n",
    "    \"scribbled\": -1.5\n",
    "}\n",
    "sid.lexicon.update(custom_words)\n",
    "\n",
    "def get_custom_vader_sentiment(text):\n",
    "    score = sid.polarity_scores(text)\n",
    "    if score['compound'] >= 0.05:\n",
    "        return 'positive'\n",
    "    elif score['compound'] <= -0.05:\n",
    "        return 'negative'\n",
    "    else:\n",
    "        return 'neutral'\n",
    "\n",
    "test_df['vader_pred'] = test_df['sentence'].apply(get_custom_vader_sentiment)\n",
    "\n",
    "# Encode labels for evaluation\n",
    "le = LabelEncoder()\n",
    "test_df['true_label_encoded'] = le.fit_transform(test_df['true_label'])\n",
    "test_df['vader_pred_encoded'] = le.transform(test_df['vader_pred'])\n",
    "\n",
    "\n",
    "le = LabelEncoder()\n",
    "test_df['true_label_encoded'] = le.fit_transform(test_df['true_label'])\n",
    "test_df['vader_pred_encoded'] = le.transform(test_df['vader_pred'])\n",
    "\n",
    "# --- Classification Report ---\n",
    "print(\"Custom VADER Sentiment Classification Report:\")\n",
    "print(classification_report(test_df['true_label_encoded'], test_df['vader_pred_encoded'], target_names=le.classes_))\n",
    "\n",
    "test_df[['sentence', 'vader_pred']].to_csv(\"vader_predictions.csv\", index=False)\n"
   ]
  },
  {
   "cell_type": "code",
   "execution_count": 26,
   "metadata": {},
   "outputs": [
    {
     "name": "stdout",
     "output_type": "stream",
     "text": [
      "Custom VADER Sentiment Classification Report:\n",
      "              precision    recall  f1-score   support\n",
      "\n",
      "    negative       1.00      0.17      0.29         6\n",
      "     neutral       0.20      0.17      0.18         6\n",
      "    positive       0.25      0.50      0.33         6\n",
      "\n",
      "    accuracy                           0.28        18\n",
      "   macro avg       0.48      0.28      0.27        18\n",
      "weighted avg       0.48      0.28      0.27        18\n",
      "\n"
     ]
    },
    {
     "name": "stderr",
     "output_type": "stream",
     "text": [
      "[nltk_data] Downloading package vader_lexicon to\n",
      "[nltk_data]     /Users/annamironovich/nltk_data...\n",
      "[nltk_data]   Package vader_lexicon is already up-to-date!\n"
     ]
    }
   ],
   "source": [
    "from nltk.sentiment.vader import SentimentIntensityAnalyzer\n",
    "import nltk\n",
    "import pandas as pd\n",
    "from sklearn.metrics import classification_report\n",
    "from sklearn.preprocessing import LabelEncoder\n",
    "\n",
    "test_df = pd.read_csv('/Users/annamironovich/Downloads/sentiment-topic-test.tsv', sep='\\t')\n",
    "test_df = test_df.rename(columns={'sentiment': 'true_label', 'sentence': 'sentence'})\n",
    "\n",
    "\n",
    "nltk.download('vader_lexicon')\n",
    "sid = SentimentIntensityAnalyzer()\n",
    "\n",
    "lexicon_path = \"/Users/annamironovich/Downloads/vader_lexicon.txt\"  # <-- Replace with your actual path\n",
    "custom_lexicon = {}\n",
    "\n",
    "with open(lexicon_path, 'r', encoding='utf-8') as f:\n",
    "    for line in f:\n",
    "        parts = line.strip().split('\\t')\n",
    "        if len(parts) >= 2:\n",
    "            word = parts[0]\n",
    "            try:\n",
    "                score = float(parts[1])\n",
    "                custom_lexicon[word] = score\n",
    "            except ValueError:\n",
    "                continue  # skip lines with bad format\n",
    "\n",
    "# Update VADER lexicon\n",
    "sid.lexicon.update(custom_lexicon)\n",
    "\n",
    "\n",
    "def get_custom_vader_sentiment(text):\n",
    "    score = sid.polarity_scores(text)\n",
    "    if score['compound'] >= 0.05:\n",
    "        return 'positive'\n",
    "    elif score['compound'] <= -0.05:\n",
    "        return 'negative'\n",
    "    else:\n",
    "        return 'neutral'\n",
    "\n",
    "test_df['vader_pred'] = test_df['sentence'].apply(get_custom_vader_sentiment)\n",
    "\n",
    "# Encode labels for evaluation\n",
    "le = LabelEncoder()\n",
    "test_df['true_label_encoded'] = le.fit_transform(test_df['true_label'])\n",
    "test_df['vader_pred_encoded'] = le.transform(test_df['vader_pred'])\n",
    "\n",
    "\n",
    "le = LabelEncoder()\n",
    "test_df['true_label_encoded'] = le.fit_transform(test_df['true_label'])\n",
    "test_df['vader_pred_encoded'] = le.transform(test_df['vader_pred'])\n",
    "\n",
    "# --- Classification Report ---\n",
    "print(\"Custom VADER Sentiment Classification Report:\")\n",
    "print(classification_report(test_df['true_label_encoded'], test_df['vader_pred_encoded'], target_names=le.classes_))\n",
    "\n",
    "test_df[['sentence', 'vader_pred']].to_csv(\"vader_predictions.csv\", index=False)\n"
   ]
  }
 ],
 "metadata": {
  "kernelspec": {
   "display_name": "base",
   "language": "python",
   "name": "python3"
  },
  "language_info": {
   "codemirror_mode": {
    "name": "ipython",
    "version": 3
   },
   "file_extension": ".py",
   "mimetype": "text/x-python",
   "name": "python",
   "nbconvert_exporter": "python",
   "pygments_lexer": "ipython3",
   "version": "3.12.7"
  }
 },
 "nbformat": 4,
 "nbformat_minor": 2
}
